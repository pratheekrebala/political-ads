{
 "cells": [
  {
   "cell_type": "code",
   "execution_count": 2,
   "metadata": {},
   "outputs": [],
   "source": [
    "import tabula\n",
    "import pandas as pd\n",
    "import numpy as np\n",
    "import re\n",
    "import random\n",
    "#import PyPDF2\n",
    "from IPython.display import HTML\n",
    "import os"
   ]
  },
  {
   "cell_type": "markdown",
   "metadata": {},
   "source": [
    "This file contains a list of Keywords that signal a field that we are interested in. - Random Sample listed here."
   ]
  },
  {
   "cell_type": "code",
   "execution_count": 3,
   "metadata": {},
   "outputs": [],
   "source": [
    "with open('./data/keyword_fields.txt') as f:\n",
    "    data = f.readlines()\n",
    "    data.sort(key=len, reverse=True)\n",
    "field_regex = re.compile('|'.join([dt.replace('\\n', '') for dt in data if dt != '\\\\w+ #\\n']).replace(' ', '\\s'))"
   ]
  },
  {
   "cell_type": "markdown",
   "metadata": {},
   "source": [
    "Very Basic Regex to Extract flight dates."
   ]
  },
  {
   "cell_type": "code",
   "execution_count": 4,
   "metadata": {},
   "outputs": [],
   "source": [
    "date_range_regex = re.compile(r'[0-9]{2}\\/[0-9]{2}\\/[0-9]{2}\\s*-\\s*[0-9]{2}\\/[0-9]{2}\\/[0-9]{2}')\n",
    "date_regex = re.compile(r'[0-9]{2}\\/[0-9]{2}\\/[0-9]{2}')"
   ]
  },
  {
   "cell_type": "code",
   "execution_count": 6,
   "metadata": {},
   "outputs": [],
   "source": [
    "def showPDF(filepath):\n",
    "    return HTML('<iframe src=\"%s\" width=1000 height=400></iframe>' % (filepath))\n",
    "\n",
    "current_file = './data/37f0827f-6409-41f7-b418-3580e3bd1b50.pdf'\n",
    "showPDF(current_file)"
   ]
  },
  {
   "cell_type": "markdown",
   "metadata": {},
   "source": [
    "Convert the above file into a text based CSV using Tabula - this currently calls the JVM directly, in production using something like Drip natively might reduce load times by keeping the JVM alive. "
   ]
  },
  {
   "cell_type": "code",
   "execution_count": 74,
   "metadata": {},
   "outputs": [],
   "source": [
    "tabula.convert_into(current_file, output_path='./test.txt', output_format='csv', guess=False, pages='all', nospreadsheet=True)"
   ]
  },
  {
   "cell_type": "markdown",
   "metadata": {},
   "source": [
    "Read the CSV into a Pandas Dataframe - not entirely sure that this is necesseary, but helps to convert into matrix later.\n",
    "\n",
    "Also, look at the top 30% of the dataframe for the values we want. Sometimes the Total value is only available in the last page - so might look at the top 30% and the bottom 30% of the dataframe."
   ]
  },
  {
   "cell_type": "code",
   "execution_count": 7,
   "metadata": {
    "scrolled": false
   },
   "outputs": [],
   "source": [
    "df = pd.read_csv('./test.txt', names=range(0,7))"
   ]
  },
  {
   "cell_type": "markdown",
   "metadata": {},
   "source": [
    "Two Extraction Methods:\n",
    "\n",
    "**Lateral**: Look for adjacent field. - Needed for some types.\n",
    "\n",
    "**Medial**: Look for above and below. - Default."
   ]
  },
  {
   "cell_type": "code",
   "execution_count": 71,
   "metadata": {},
   "outputs": [],
   "source": [
    "def readPdfToText(input1):\n",
    "    os.system(\"pdftotext -layout '%s' '%s'\" % (input1, 'test.txt'))\n",
    "    with open('./test.txt', 'r') as fp:\n",
    "        data = fp.readlines()\n",
    "readPdfToText('./data/fee68b92-3b27-4b95-87ed-1a6106f3ad95.pdf')"
   ]
  },
  {
   "cell_type": "code",
   "execution_count": 35,
   "metadata": {},
   "outputs": [],
   "source": [
    "df_rows = []\n",
    "for line in data:\n",
    "    field_lines = [field for field in re.split('\\s{2,}', line.replace('\\n', '')) if field != '']\n",
    "    if len(field_lines) > 1:\n",
    "        df_rows.append(field_lines)\n",
    "df = pd.DataFrame.from_records(df_rows)"
   ]
  },
  {
   "cell_type": "code",
   "execution_count": 76,
   "metadata": {},
   "outputs": [],
   "source": [
    "a = df.as_matrix()\n",
    "fields_meta = df.applymap(lambda x: field_regex.findall(x) if type(x) == str else False).as_matrix()"
   ]
  },
  {
   "cell_type": "code",
   "execution_count": null,
   "metadata": {},
   "outputs": [],
   "source": []
  },
  {
   "cell_type": "code",
   "execution_count": 78,
   "metadata": {},
   "outputs": [],
   "source": [
    "def extractFields(fields_meta, extraction_method):\n",
    "    extracted_fields = []\n",
    "    (lx,ly) = fields_meta.shape\n",
    "    for x in range(0, lx):\n",
    "        for y in range(0,ly):\n",
    "            current_field = fields_meta[x,y]\n",
    "            if current_field:\n",
    "                if extraction_method == 'medial' and x < lx-1:\n",
    "                    target_field = a[x+1,y]\n",
    "                elif extraction_method == 'lateral' and y < ly-1:\n",
    "                    target_field = a[x,y+1]\n",
    "                extracted_fields.append((current_field,target_field))\n",
    "    return extracted_fields\n",
    "extracted_fields = extractFields(fields_meta, 'medial')"
   ]
  },
  {
   "cell_type": "code",
   "execution_count": 80,
   "metadata": {
    "scrolled": true
   },
   "outputs": [
    {
     "data": {
      "text/plain": [
       "[(['Contract / Revision', 'Alt Order #'], '1559701  / 08329440'),\n",
       " (['Product'], '(419) 248-1111 PORTMAN FOR SENATE'),\n",
       " (['Contract Dates'], '08/16/16 - 08/22/16'),\n",
       " (['Estimate #'], '3386'),\n",
       " (['Advertiser'], 'POL/Portman, R/United States Senate'),\n",
       " (['Original Date / Revision'], '07/21/16  / 07/21/16'),\n",
       " (['Billing Cycle', 'Billing Calendar', 'Cash/Trade'],\n",
       "  'EOM/EOC Broadcast Cash'),\n",
       " (['Property Account Executive', 'Sales Office'],\n",
       "  'WTOL Dorie Penafiel HRP-Washingto'),\n",
       " (['Special Handling'], 'Cash In Advance'),\n",
       " (['Demographic'], 'Adults 35+'),\n",
       " (['Advertiser Code', 'Product'], '1021 280 316'),\n",
       " (['Agency Ref', 'Advertiser Ref'], nan),\n",
       " (['Spots'], '*Line Ch Start Date End Date Description Time Days Length Week'),\n",
       " (['Start Date', 'End Date'],\n",
       "  'N 1 WTOL 08/19/16 08/19/16 NEWS 11 @ NOON 1158am-1230pm :30'),\n",
       " (['Rate', 'Spots'], 'NM 1'),\n",
       " (['Start Date', 'End Date', 'Spots', 'Rate'],\n",
       "  'Week: 08/15/16 08/21/16 ----1-- 1 $500.00'),\n",
       " (['Start Date', 'End Date', 'Spots', 'Rate'],\n",
       "  'Week: 08/22/16 08/28/16 1------ 1 $2,500.00'),\n",
       " (['Start Date', 'End Date', 'Spots', 'Rate'],\n",
       "  'Week: 08/15/16 08/21/16 ---1--- 1 $2,500.00'),\n",
       " (['Start Date', 'End Date', 'Spots', 'Rate'],\n",
       "  'Week: 08/15/16 08/21/16 -1----- 1 $500.00'),\n",
       " (['Start Date', 'End Date', 'Spots', 'Rate'],\n",
       "  'Week: 08/15/16 08/21/16 -1----- 1 $2,500.00'),\n",
       " (['Start Date', 'End Date', 'Spots', 'Rate'],\n",
       "  'Week: 08/15/16 08/21/16 --1---- 1 $2,500.00'),\n",
       " (['Totals'], 'Time Period # of Spots Gross Amount Agency Comm. Net Amount'),\n",
       " (['Period', 'Spots', 'Gross Amount', 'Agency', 'Net Amount'],\n",
       "  '08/01/16 -08/22/16 6 $11,000.00 ($1,650.00) $9,350.00'),\n",
       " (['Totals'], 'Signature: Date:'),\n",
       " (['Station'],\n",
       "  'otherwise, on contracts, insertion orders, copy instructions or any correspondence when such conflict with the above terms and conditions.')]"
      ]
     },
     "execution_count": 80,
     "metadata": {},
     "output_type": "execute_result"
    }
   ],
   "source": [
    "extracted_fields"
   ]
  },
  {
   "cell_type": "code",
   "execution_count": 82,
   "metadata": {},
   "outputs": [
    {
     "name": "stdout",
     "output_type": "stream",
     "text": [
      "{'Advertiser': 'POL/Portman, R/United States Senate', 'Totals': 'Signature: Date:', 'Original Date / Revision': '07/21/16  / 07/21/16', 'Station': 'otherwise, on contracts, insertion orders, copy instructions or any correspondence when such conflict with the above terms and conditions.', 'Estimate #': '3386', 'Contract Dates': '08/16/16 - 08/22/16', 'Net Amount': '$9,350.00', 'Demographic': 'Adults 35+', 'Agency': '($1,650.00)', 'Product': '(419) 248-1111 PORTMAN FOR SENATE', 'Special Handling': 'Cash In Advance', 'Gross Amount': '$11,000.00', 'flightDates': '08/16/16 - 08/22/16', 'Original Date': '07/21/16 ', 'Period': '08/01/16-08/22/16', 'Spots': '6', 'altOrder': '1559701', 'Revision': '07/21/16'}\n"
     ]
    }
   ],
   "source": [
    "def cleanFields(extracted_fields, lazy=False):\n",
    "    finalized_meta = {}\n",
    "    for field, value in extracted_fields:\n",
    "        if not pd.isnull(value):\n",
    "            if field[0] == 'Contract / Revision' and not pd.isnull(value):\n",
    "                finalized_meta['altOrder'] = value.split(' ')[0] if type(value) == str else value\n",
    "            if field[0] in ['Contract Dates', 'Schedule Dates']:\n",
    "                finalized_meta['flightDates'] = value\n",
    "            if field[0] == 'Demographic':\n",
    "                finalized_meta['Demographic'] = value\n",
    "            if len(field) == 1 and field[0] == 'Advertiser':\n",
    "                finalized_meta['Advertiser'] = value\n",
    "            if len(field) == 1:\n",
    "                if ' / ' in field[0]:\n",
    "                    finalized_meta.update(dict(zip(field[0].split(' / '), value.split(' / '))))\n",
    "            if len(field) > 2:\n",
    "                if 'Period' in field and 'Spots' in field:\n",
    "                    matched_date = date_range_regex.findall(value)[0]\n",
    "                    value = value.replace(matched_date, matched_date.replace(' ', ''))\n",
    "                    finalized_meta.update(dict(zip(field, value.split(' '))))\n",
    "                    #if field[2] == 'Gross Amount':\n",
    "                    #    finalized_meta['total'] = value.split(' ')[-1]\n",
    "                #finalized_meta[field]\n",
    "            if lazy:\n",
    "                if len(field) == 1 and not pd.isnull(value):\n",
    "                    finalized_meta[field[0].strip()] = value.strip()\n",
    "    print(finalized_meta)\n",
    "cleanFields(extracted_fields, lazy=True)"
   ]
  },
  {
   "cell_type": "markdown",
   "metadata": {},
   "source": [
    "Desired Output:\n",
    "\n",
    "{\n",
    "\"total\": \"7480\",\n",
    "\"flightDates\":\"08/19/16-08/29/16\",\n",
    "\"order\": \"920710\",\n",
    "\"altOrder\": \"25269827\"\n",
    "}"
   ]
  },
  {
   "cell_type": "code",
   "execution_count": 192,
   "metadata": {},
   "outputs": [
    {
     "name": "stdout",
     "output_type": "stream",
     "text": [
      "Final Output {'Original Date': '06/16/16  /', 'Period': '08/29/16-09/25/16', 'Gross Amount': '$22,070.00', 'Agency': '($3,310.50)', 'Revision': '08/15/16', 'Spots': '43', 'Demographic': 'Adults 25-54', 'altOrder': '156304', 'flightDates': '09/20/16 - 09/26/16', 'Advertiser': 'Portman/Republican/Sena'}\n"
     ]
    }
   ],
   "source": [
    "print('Final Output', finalized_meta)"
   ]
  }
 ],
 "metadata": {
  "kernelspec": {
   "display_name": "Python 3",
   "language": "python",
   "name": "python3"
  },
  "language_info": {
   "codemirror_mode": {
    "name": "ipython",
    "version": 3
   },
   "file_extension": ".py",
   "mimetype": "text/x-python",
   "name": "python",
   "nbconvert_exporter": "python",
   "pygments_lexer": "ipython3",
   "version": "3.6.1"
  }
 },
 "nbformat": 4,
 "nbformat_minor": 1
}
