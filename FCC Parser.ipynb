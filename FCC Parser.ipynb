{
 "cells": [
  {
   "cell_type": "code",
   "execution_count": 1,
   "metadata": {},
   "outputs": [],
   "source": [
    "from pifParser import *"
   ]
  },
  {
   "cell_type": "code",
   "execution_count": 11,
   "metadata": {},
   "outputs": [
    {
     "name": "stdout",
     "output_type": "stream",
     "text": [
      "b'Remit To: CBS Television Stations\\nP.O. Box 33091\\n'\n"
     ]
    },
    {
     "data": {
      "text/plain": [
       "({'extraction_method': 'lateral',\n",
       "  'lazy': True,\n",
       "  'nospreadsheet': False,\n",
       "  'parser': 'tabula',\n",
       "  'regex': 'Remit To'},\n",
       " re.compile(rb'Remit To'))"
      ]
     },
     "execution_count": 11,
     "metadata": {},
     "output_type": "execute_result"
    }
   ],
   "source": [
    "current_file = './downloads/f97c82c4-35e6-4a02-a1c7-42e789e2b9f6.pdf'\n",
    "current_layout, pattern = layoutClassifier(current_file)\n",
    "current_layout, pattern"
   ]
  },
  {
   "cell_type": "code",
   "execution_count": 12,
   "metadata": {},
   "outputs": [
    {
     "data": {
      "text/html": [
       "<iframe src=\"./downloads/f97c82c4-35e6-4a02-a1c7-42e789e2b9f6.pdf\" width=1000 height=400></iframe>"
      ],
      "text/plain": [
       "<IPython.core.display.HTML object>"
      ]
     },
     "execution_count": 12,
     "metadata": {},
     "output_type": "execute_result"
    }
   ],
   "source": [
    "showPDF(current_file)"
   ]
  },
  {
   "cell_type": "code",
   "execution_count": 13,
   "metadata": {},
   "outputs": [],
   "source": [
    "if current_layout and current_layout['parser'] == 'tabula':\n",
    "    df = doTabula(current_file, nospreadsheet=current_layout['nospreadsheet'])\n",
    "elif current_layout and current_layout['parser'] == 'pdfToText':\n",
    "    df = readPdfToText(current_file)"
   ]
  },
  {
   "cell_type": "code",
   "execution_count": 17,
   "metadata": {},
   "outputs": [
    {
     "data": {
      "text/plain": [
       "array([[[], [], False, ..., False, False, False],\n",
       "       [[], False, ['Flight'], ..., False, False, False],\n",
       "       [[], False, [], ..., [], [], False],\n",
       "       ..., \n",
       "       [False, False, False, ..., False, [], False],\n",
       "       [False, False, False, ..., False, [], False],\n",
       "       [[], False, False, ..., False, False, False]], dtype=object)"
      ]
     },
     "execution_count": 17,
     "metadata": {},
     "output_type": "execute_result"
    }
   ],
   "source": [
    "headerMatrix"
   ]
  },
  {
   "cell_type": "code",
   "execution_count": 15,
   "metadata": {},
   "outputs": [],
   "source": [
    "headerMatrix, valueMatrix = generateMatrixLookup(df)"
   ]
  },
  {
   "cell_type": "code",
   "execution_count": 18,
   "metadata": {},
   "outputs": [
    {
     "data": {
      "text/plain": [
       "{'Account Exec': 'Link, John',\n",
       " 'Billing Cycle': '05/16/2017',\n",
       " 'CPE': '802/ 930/ 4838',\n",
       " 'Commission': 'Net Amt',\n",
       " 'Contract Dates': '04/04/2017-04/10/2017',\n",
       " 'Contract Num': '8101-55023',\n",
       " 'Invoice Num': 'Page 10 of 11',\n",
       " 'Office': 'CTS-PH',\n",
       " 'Period': 'PAY BY',\n",
       " 'Product Desc': 'OSSOFF/D/HOUSE GA 6',\n",
       " 'Rate': 'Debit Credit',\n",
       " 'Spots': 'Rate',\n",
       " 'Total Spots': 'Gross Amt Commission Amt',\n",
       " 'Totals': '6,790.00 1,018.50',\n",
       " 'flightDates': '04/04/2017-04/10/2017'}"
      ]
     },
     "execution_count": 18,
     "metadata": {},
     "output_type": "execute_result"
    }
   ],
   "source": [
    "filterExtractedFields(extractFields(headerMatrix, valueMatrix, current_layout['extraction_method']), lazy=current_layout['lazy'])"
   ]
  },
  {
   "cell_type": "markdown",
   "metadata": {},
   "source": [
    "# Parse All"
   ]
  },
  {
   "cell_type": "code",
   "execution_count": 19,
   "metadata": {},
   "outputs": [],
   "source": [
    "def parseDoc(current_file):\n",
    "    current_layout, pattern = layoutClassifier(current_file)\n",
    "    if not current_layout:\n",
    "        return False\n",
    "    if current_layout and current_layout['parser'] == 'tabula':\n",
    "        df = doTabula(current_file, nospreadsheet=current_layout['nospreadsheet'])\n",
    "    elif current_layout and current_layout['parser'] == 'pdfToText':\n",
    "        df = readPdfToText(current_file)\n",
    "    else:\n",
    "        print('Unsupported Document')\n",
    "        return False\n",
    "    headerMatrix, valueMatrix = generateMatrixLookup(df)\n",
    "    results = filterExtractedFields(extractFields(headerMatrix, valueMatrix, current_layout['extraction_method']), lazy=current_layout['lazy'])\n",
    "    print(results)"
   ]
  },
  {
   "cell_type": "code",
   "execution_count": 20,
   "metadata": {},
   "outputs": [
    {
     "name": "stdout",
     "output_type": "stream",
     "text": [
      "b''\n",
      "b'Page\\n\\n'\n",
      "b'Print Date\\n\\n'\n",
      "{'altOrder': 'Alt', 'Contract': 'Alt Order #', 'Contract / Revision': 'Alt Order #', 'flightDates': 'Product', 'Contract Dates': 'Product', 'Advertiser': 'Oriainal Date / Revision', 'Account Executive': 'Saies Office', 'Product': 'Estimate #', 'Rate': 'Type', 'Start Date': 'End Date', 'Spots': 'Gross Amount', 'End Date': 'Weekdays', 'Totals': '92', 'Period': '# of Spots', 'Gross Amount': 'Agency Comm.', 'Agency': 'Net Amount'}\n",
      "b'Print Date\\n\\n'\n",
      "{'altOrder': 'Alt', 'Contract': 'Alt Order #', 'Contract / Revision': 'Alt Order #', 'flightDates': 'Product', 'Contract Dates': 'Product', 'Advertiser': 'OriginaLQateJ- Revision', 'Billina Calendar': 'Cash/Trade', 'Account Executive': 'Sales Office', 'Advertiser Code': 'Product 1/2', 'End Date': 'Weekdays', 'Spots': 'Gross Amount', 'Product': 'Estimate #', 'Start Date': 'End Date', 'Totals': '71', 'Period': '# of Spots', 'Gross Amount': 'Agency Comm.', 'Agency': 'Net Amount'}\n",
      "b'Contract Agreem ent Between:\\n\\n'\n",
      "b'Contract Agreem ent Between:\\n\\n'\n",
      "b'Page\\n\\n'\n",
      "b'Print Date\\n\\n'\n",
      "{'altOrder': 'Alt', 'Contract': 'Alt O rder#', 'Contract / Revision': 'Alt O rder#', 'flightDates': 'Product', 'Contract Dates': 'Product', 'Advertiser': 'Orininal Date / Revision', 'Billina Cvcle': 'Billina Calendar', 'Billina Calendar': 'Cash/Trade', 'Account Executive': 'Sales Office', 'Advertiser Code': 'P foducfl72', 'Rate': 'Am ount', 'Product': 'Estimate #', 'Start Date': 'End Date', 'End Date': 'Weekdays', 'Spots': 'Gross Amount', 'Totals': '40', 'Period': '# of Spots', 'Gross Amount': 'Agency Comm.', 'Agency': 'Net Amount'}\n",
      "b'Print Date\\n\\n'\n",
      "{'altOrder': 'Alt', 'Contract': 'Alt O rder#', 'Contract / Revision': 'Alt O rder#', 'flightDates': 'Product', 'Contract Dates': 'Product', 'Advertiser': 'Orininal Date / Revision', 'Billina Cvcle': 'Billina Calendar', 'Billina Calendar': 'Cash/Trade', 'Account Executive': 'Sales Office', 'Advertiser Code': 'P foducfl72', 'Rate': 'Am ount', 'Product': 'Estimate #', 'Start Date': 'End Date', 'End Date': 'Weekdays', 'Spots': 'Gross Amount', 'Totals': '40', 'Period': '# of Spots', 'Gross Amount': 'Agency Comm.', 'Agency': 'Net Amount'}\n",
      "b'Print Date\\n\\n'\n",
      "{'flightDates': 'Product', 'Contract Dates': 'Product', 'Advertiser': 'Original Date / Revision', 'Account Executive': 'Sales Office', 'Advertiser Code': 'Product 1/2', 'End Date': 'Weekdavs', 'Spots': 'Gross Amount', 'altOrder': 'Alt', 'Contract': 'Alt Order#', 'Contract / Revision': 'Alt Order#', 'Product': 'Estimate #', 'Start Date': 'Spots/Week', 'Totals': '91', 'Period': '# of Spots', 'Gross Amount': 'Agency Comm.', 'Agency': 'Net Amount'}\n",
      "b'Print Date\\n\\n'\n",
      "{'flightDates': 'Product', 'Contract Dates': 'Product', 'Advertiser': 'Original Date / Revision', 'Account Executive': 'Sales Office', 'Advertiser Code': 'Product 1/2', 'End Date': 'Weekdavs', 'Spots': 'Gross Amount', 'altOrder': 'Alt', 'Contract': 'Alt Order#', 'Contract / Revision': 'Alt Order#', 'Product': 'Estimate #', 'Start Date': 'Spots/Week', 'Totals': '91', 'Period': '# of Spots', 'Gross Amount': 'Agency Comm.', 'Agency': 'Net Amount'}\n",
      "b'Print Date\\n\\n'\n",
      "{'altOrder': 'Alt', 'Contract': 'Alt Order', 'Contract / Revision': 'Alt Order', 'flightDates': 'Product', 'Contract Dates': 'Product', 'Advertiser': 'Oriainal Date / Revision', 'Billina Cvcle': 'Billina Calendar', 'Billina Calendar': 'Cash/Trade', 'Account Executive': 'Sales Office', 'Advertiser Code': 'ProducfT/2', 'Product': 'Estimate #', 'Start Date': 'End Date', 'End Date': 'Weekdays', 'Spots': 'Gross Amount', 'Rate': 'I', 'Totals': '12', 'Period': '# of Spots', 'Gross Amount': 'Agency Comm.', 'Agency': 'Net Amount'}\n",
      "b'Print Date\\n\\n'\n",
      "{'altOrder': 'Alt', 'Contract': 'Alt Order', 'Contract / Revision': 'Alt Order', 'flightDates': 'Product', 'Contract Dates': 'Product', 'Advertiser': 'Oriainal Date / Revision', 'Billina Cvcle': 'Billina Calendar', 'Billina Calendar': 'Cash/Trade', 'Account Executive': 'Sales Office', 'Advertiser Code': 'ProducfT/2', 'Product': 'Estimate #', 'Start Date': 'End Date', 'End Date': 'Weekdays', 'Spots': 'Gross Amount', 'Rate': 'I', 'Totals': '12', 'Period': '# of Spots', 'Gross Amount': 'Agency Comm.', 'Agency': 'Net Amount'}\n",
      "b'Page\\n\\n'\n",
      "b'Contract Agreement Between:\\n\\n'\n",
      "{'altOrder': '256294', 'Product': 'Chicago, IL 60680-9036 CON LDRSHP FUND 2889', 'flightDates': '06/14/17-06/20/17', 'Contract Dates': '06/14/17-06/20/17', 'Estimate #': '2889', 'Advertiser': 'ISS/Congressional Leade', 'Original Date': '04/26/17 /', 'Revision': '08627339', 'Original Date / Revision': '04/26/17 /', 'Advertiser Ref': '2436', 'Spots': '73', 'Contract': 'WSB-TV', 'Contract / Revision': 'WSB-TV', 'Rate': ';30', 'Alt Order #': '256294 / 08627339', 'Totals': 'Signature:', 'Period': '06/12/17-06/18/17', 'Gross Amount': '$119,250.00', 'Agency': '($17,887.50)', 'Net Amount': '$101,362.50'}\n",
      "b'Contract Agreement Between:\\n\\n'\n",
      "{'altOrder': '256294', 'Product': 'Chicago, IL 60680-9036 CON LDRSHP FUND 2889', 'flightDates': '06/14/17-06/20/17', 'Contract Dates': '06/14/17-06/20/17', 'Estimate #': '2889', 'Advertiser': 'ISS/Congressional Leade', 'Original Date': '04/26/17 /', 'Revision': '08627339', 'Original Date / Revision': '04/26/17 /', 'Advertiser Ref': '2436', 'Spots': '73', 'Contract': 'WSB-TV', 'Contract / Revision': 'WSB-TV', 'Rate': ';30', 'Alt Order #': '256294 / 08627339', 'Totals': 'Signature:', 'Period': '06/12/17-06/18/17', 'Gross Amount': '$119,250.00', 'Agency': '($17,887.50)', 'Net Amount': '$101,362.50'}\n",
      "b'Contract Agreement Between:\\n\\n'\n",
      "{'altOrder': 'WAGA', 'Contract': '662771', 'Contract / Revision': '662771', 'Order#': '/ DCCC- Political Issue', 'Product': 'A T L A N T A (404) 875-5555 DCCC Political Issue', 'flightDates': '(404) 875-5555 04/20/17 - 04/26/17 DCCC Political Issue 4.20.17-4.26.17', 'Contract Dates': 'http://www.fox5atlanta.com 04/20/17 - 04/26/17', 'Estimate #': '4.20.17-4.26.17', 'Advertiser': 'httpJAwww.fox5atlanta.coni', 'Billina Cvcle': 'EOM/EOC', 'Spots': '73', 'Rate': ':30', 'Station': 'orders, copy instructions or any correspondence that conflicts with station’s  Standard Conditions', 'Totals': 'Signature: Date:', 'Period': '03/27/17-04/26/17', 'Gross Amount': '$88,550.00', 'Agency': '($13,282.50)', 'Net Amount': '$75,267.50'}\n",
      "b'Contract Agreement Between:\\n\\n'\n",
      "{'altOrder': 'WAGA', 'Contract': '662771', 'Contract / Revision': '662771', 'Order#': '/ DCCC- Political Issue', 'Product': 'A T L A N T A (404) 875-5555 DCCC Political Issue', 'flightDates': '(404) 875-5555 04/20/17 - 04/26/17 DCCC Political Issue 4.20.17-4.26.17', 'Contract Dates': 'http://www.fox5atlanta.com 04/20/17 - 04/26/17', 'Estimate #': '4.20.17-4.26.17', 'Advertiser': 'httpJAwww.fox5atlanta.coni', 'Billina Cvcle': 'EOM/EOC', 'Spots': '73', 'Rate': ':30', 'Station': 'orders, copy instructions or any correspondence that conflicts with station’s  Standard Conditions', 'Totals': 'Signature: Date:', 'Period': '03/27/17-04/26/17', 'Gross Amount': '$88,550.00', 'Agency': '($13,282.50)', 'Net Amount': '$75,267.50'}\n",
      "b'Print Date\\n\\n'\n",
      "{'altOrder': 'Alt', 'Contract': 'Alt Order #', 'Contract / Revision': 'Alt Order #', 'flightDates': 'Estimate #', 'Contract Dates': 'Estimate #', 'Advertiser': 'Oriainal Date / Revision', 'Billina Cycle': 'Billina Calendar', 'Billina Calendar': 'Cash/Trade', 'Property': 'Account Executive', 'Account Executive': 'Safes\" Office', 'Advertiser Code': 'Product 1/2', 'Spots': 'Gross Amount', 'Totals': '6', 'Period': '# of Spots', 'Gross Amount': 'Agency Comm.', 'Agency': 'Net Amount'}\n",
      "b'Page\\n\\n'\n",
      "b'Page\\n\\n'\n",
      "b'Print Date\\n\\n'\n",
      "{'altOrder': 'All', 'Contract': 'All Order //', 'Contract / Revision': 'All Order //', 'flightDates': 'Product', 'Contract Dates': 'Product', 'Advertiser': 'Oriomal Date / Revision', 'Billina Cvcle': 'Billina Calendar', 'Billina Calendar': 'Cash/r rade', 'Account Executive': 'Sales Office', 'Advertiser Code': 'Product 172', 'Spots': 'Gross Amount', 'Product': 'Estimate //', 'Rate': 'TypeSpols', 'Start Date': 'End Date', 'End Date': 'Weekdays_____ Spots/Week', 'Totals': '41', 'Period': '# of Spots', 'Gross Amount': 'Agency Comm.', 'Agency': 'Net Amount', 'Billina Cycle': 'Billina Calendar'}\n",
      "b'Contract Agreement Between:\\n\\n'\n",
      "{'altOrder': 'Original', 'Product': '(404) 875-5555 Order- MOODY for CONGRESS - ADD', 'flightDates': 'Advertiser', 'Contract Dates': 'Advertiser', 'Estimate #': '414418-ADD', 'Advertiser': 'Moody for Congress', 'Advertiser Ref': 'Spots/', 'Spots': '26', 'Station': \"orders, copy instructions or any correspondence that conflicts with station's Standard Conditions\", 'Rate': '1 $900.00', 'Totals': 'Signature:__________________________________________', 'Period': '03/27/17-04/18/17', 'Gross Amount': '$16,375.00', 'Agency': '($2,456.25)', 'Net Amount': '$13,918.75'}\n",
      "b'Print Date\\n\\n'\n",
      "{'altOrder': 'Alt', 'Contract': 'Alt Order #', 'Contract / Revision': 'Alt Order #', 'flightDates': 'Product', 'Contract Dates': 'Product', 'Advertiser': 'Oriainal Date / Revision', 'Billina Cycle': 'Billina Calendar', 'Billina Calendar': 'Cash/Trade', 'Property': 'Account Executive', 'Account Executive': 'Sales Office', 'Advertiser Code': 'Product 1/2', 'Spots': 'Gross Amount', 'Product': 'Estimate #', 'Start Date': 'End Date', 'End Date': 'Weekdays', 'Totals': '19', 'Period': '# of Spots', 'Gross Amount': 'Agency Comm.', 'Agency': 'Net Amount'}\n",
      "b'Page\\n\\n'\n"
     ]
    },
    {
     "name": "stdout",
     "output_type": "stream",
     "text": [
      "b'Print Date\\n\\n'\n",
      "{'altOrder': 'Alt', 'Contract': 'Alt Order #', 'Contract / Revision': 'Alt Order #', 'flightDates': 'Product', 'Contract Dates': 'Product', 'Advertiser': 'Oriainal Date / Revision', 'Billina Cycle': 'Billina Calendar', 'Billina Calendar': 'Cash/Trade', 'Property': 'Account Executive', 'Account Executive': 'Sales Office', 'Advertiser Code': 'Product 1/2~', 'Spots': 'Gross Amount', 'Start Date': 'End Date', 'End Date': 'Weekdays', 'Product': 'Estimate it', 'Totals': '44', 'Period': '# of Spots', 'Gross Amount': 'Agency Comm.', 'Agency': 'Net Amount'}\n",
      "b'Page\\n\\n'\n",
      "b'Page\\n\\n'\n",
      "b'Page\\n\\n'\n",
      "b'Print Date\\n\\n'\n",
      "{'altOrder': 'Alt', 'Contract': 'Alt Order #', 'Contract / Revision': 'Alt Order #', 'flightDates': 'Product', 'Contract Dates': 'Product', 'Advertiser': 'Oriainal Date / Revision', 'Billina Cvcle': 'Billina Calendar', 'Billina Calendar': 'Cash/Trade', 'Account Executive': 'Sales Office', 'Advertiser Code': 'Product 1/2', 'Product': 'Estimate tt', 'Start Date': 'End Date', 'End Date': 'Weekdays', 'Spots': 'Gross Amount', 'Totals': '85', 'Period': '# of Spots', 'Gross Amount': 'Agency Comm.', 'Agency': 'Net Amount'}\n",
      "b'Print Date\\n\\n'\n",
      "{'altOrder': 'Alt', 'Contract': 'Alt Order #', 'Contract / Revision': 'Alt Order #', 'flightDates': 'Product', 'Contract Dates': 'Product', 'Advertiser': 'Oriainal Date / Revision', 'Billina Cvcle': 'Billina Calendar', 'Billina Calendar': 'Cash/Trade', 'Account Executive': 'Sales Office', 'Advertiser Code': 'Product 1/2', 'Product': 'Estimate tt', 'Start Date': 'End Date', 'End Date': 'Weekdays', 'Spots': 'Gross Amount', 'Totals': '85', 'Period': '# of Spots', 'Gross Amount': 'Agency Comm.', 'Agency': 'Net Amount'}\n",
      "b'Print Date\\n\\n'\n",
      "{'altOrder': 'Alt', 'Contract': 'Alt Order#', 'Contract / Revision': 'Alt Order#', 'Advertiser': 'Original Date / Revision', 'Billina Cvcle': 'Billina.Calendar', 'Account Executive': 'S ales Office', 'Advertiser Code': 'Product 1/2', 'Start Date': 'End Date', 'End Date': 'Weekdavs', 'Spots': 'Gross Amount', 'flightDates': 'Product', 'Contract Dates': 'Product', 'Product': 'Estimate #', 'Totals': '120', 'Period': '# of Spots', 'Gross Amount': 'Agency Comm.', 'Agency': 'Net Amount'}\n",
      "b'Print Date\\n\\n'\n",
      "{'altOrder': 'Alt', 'Contract': 'Alt Order#', 'Contract / Revision': 'Alt Order#', 'Advertiser': 'Original Date / Revision', 'Billina Cvcle': 'Billina.Calendar', 'Account Executive': 'S ales Office', 'Advertiser Code': 'Product 1/2', 'Start Date': 'End Date', 'End Date': 'Weekdavs', 'Spots': 'Gross Amount', 'flightDates': 'Product', 'Contract Dates': 'Product', 'Product': 'Estimate #', 'Totals': '120', 'Period': '# of Spots', 'Gross Amount': 'Agency Comm.', 'Agency': 'Net Amount'}\n",
      "b'Contract Agreem ent Between:\\n\\n'\n",
      "b'Contract Agreem ent Between:\\n\\n'\n",
      "b'Print Date\\n\\n'\n",
      "{'altOrder': 'Alt', 'Contract': 'Alt Order #', 'Contract / Revision': 'Alt Order #', 'flightDates': 'Product', 'Contract Dates': 'Product', 'Advertiser': 'Oriainal Date / Revision', 'Billina Cycle': 'Billina Calendar', 'Billina Calendar': 'Cash/Trade', 'Property': 'Account Executive', 'Account Executive': 'Sales Office', 'Advertiser Code': 'Product 1/2', 'Spots': 'Gross Amount', 'Product': 'Estimate #', 'Estimate': '#', 'Start Date': 'End Date', 'End Date': 'Weekdavs', 'Period': '# of Spots', 'Gross Amount': 'Agency Comm.', 'Agency': 'Net Amount', 'Totals': '92'}\n",
      "b'C ontract A greem ent Betw een;\\n\\n'\n",
      "b'Contract Agreement Between:\\n\\n'\n",
      "{'altOrder': 'I1551', 'Product': '(404) 875-5555 Advocacy', 'flightDates': '(404) 875-5555 03/03/17-03/14/17 Advocacy 2784-C LP  GATV: 3/3-3l|', 'Contract Dates': 'http/Mlww.lox5allanlacom 03/03/17-03/14/17', 'Estimate #': '2784 - CLF GA TV: 3/3', 'Advertiser': 'Congressional Leadershi 03/02/17 / 03/02/17', 'Advertiser Ref': 'Spots/', 'Spots': '20', 'Period': '02/27/17-03/14/17', 'Gross Amount': '$26,975.00', 'Agency': '($4,046.25)', 'Net Amount': '$22,928.75', 'Totals': 'Signature: Date:', 'Station': 'orders, copy instructions or any correspondence that conflicts with station’s Standard Conditions.'}\n",
      "b'Page\\n\\n'\n",
      "b'Contract Agreement Between:\\n\\n'\n",
      "{'altOrder': '256175', 'Contract': '256175', 'Revision': '08627332', 'Contract / Revision': '256175 / 08627332', 'Product': '345', 'flightDates': '05/10/17 -05/16/17', 'Contract Dates': '05/10/17 -05/16/17', 'Estimate #': '2884', 'Advertiser': 'ISS/Congressional Leade', 'Original Date': '04/26/17 /', 'Original Date / Revision': '04/26/17 /', 'Property Account Executive': 'W S B -T V Washington DC CoxF CoxReps Washi', 'Special Handling': 'Demographic', 'Demographic': 'Adults 35+', 'Advertiser Code': 'TV12521 267', 'Advertiser Ref': '2436', 'Spots': '47', 'Rate': ':30', 'Period': '05/08/17-05/14/17', 'Gross Amount': '$69,700.00', 'Agency': '($10,455.00)', 'Net Amount': '$59,245.00', 'Totals': 'Signature:'}\n",
      "b'Contract Agreement Between:\\n\\n'\n",
      "{'Order#': '662089 / Judson Hill', 'Product': '347', 'flightDates': '04/16/17 - 04/18/17', 'Contract Dates': '04/16/17 - 04/18/17', 'Estimate #': '2880 - GA06 Add to  Ski', 'Advertiser': 'Judson H ill fo r Congress', 'Billina Calendar': 'EOM/EOC Broadcast', 'Cash/Trade': 'Cash', 'Account Executive': 'WAGA Anthony Castaneda', 'Sales Office': 'FSS Philadelphi', 'Demographic': 'Adults 35+', 'Advertiser Ref': 'Spots/', 'Spots': '13', 'altOrder': '662089', 'Contract': '662089', 'Revision': 'Judson Hill', 'Contract / Revision': '662089 / Judson Hill', 'Period': '03/27/17-04/18/17', 'Gross Amount': '$11,900.00', 'Agency': '($1,785.00)', 'Totals': 'S ignature:_____________________________________________'}\n",
      "b'Contract Agreement Between:\\n\\n'\n",
      "{'Product': 'Oriainaf Date / Revision', 'altOrder': '645849', 'flightDates': 'Advertiser', 'Contract Dates': 'Advertiser', 'Estimate #': '2787 -CLF GATV: 3/25', 'Advertiser': 'Congressional Leadership Fund', 'Account Executive': 'WAGA Anthony Castaneda FSS Phlladelphi', 'Advertiser Ref': 'Spots/', 'Spots': '17', 'Contract': '645849 Product Advocacy /', 'Contract / Revision': '645849 Product Advocacy /', 'Alt Order #': 'WOC10576089Estimate #2787-C LFG A TV: 3/29-4/', 'Totals': 'Signature:', 'Period': '03/27/17-04/04/17', 'Gross Amount': '$17,775.00', 'Agency': '($2,666.25)', 'Net Amount': '$15,108.75'}\n",
      "b'Contract Agreement Between:\\n\\n'\n",
      "{'altOrder': '658497', 'Product': 'Special Election', 'flightDates': '04/04/17-04/10/17', 'Contract Dates': '04/04/17-04/10/17', 'Estimate': '4837', 'Advertiser': 'Start/End Spots/', 'Property Account Executive': 'WAGA Atlanta House Accom Atlanta-Local', 'Advertiser Ref': 'Spots/', 'Spots': '198', 'Alt Order#': '00057100', 'Estimate #': '4837', 'Station': \"orders, copy instructions or any correspondence that conflicts with station's Standard Conditions.\", 'Original Date': '03/31/17', 'Original Date / Revision': '03/31/17', 'Contract': 'W AGA', 'Contract / Revision': 'W AGA', 'Totals': 'Signature:', 'Period': '03/27/17-04/10/17', 'Gross Amount': '5100,750.00', 'Agency': '($15,112.50)', 'Net Amount': '$85,637.50'}\n",
      "b'Contract Agreement Between:\\n\\n'\n",
      "{'altOrder': '658497', 'Product': 'Special Election', 'flightDates': '04/04/17-04/10/17', 'Contract Dates': '04/04/17-04/10/17', 'Estimate': '4837', 'Advertiser': 'Start/End Spots/', 'Property Account Executive': 'WAGA Atlanta House Accom Atlanta-Local', 'Advertiser Ref': 'Spots/', 'Spots': '198', 'Alt Order#': '00057100', 'Estimate #': '4837', 'Station': \"orders, copy instructions or any correspondence that conflicts with station's Standard Conditions.\", 'Original Date': '03/31/17', 'Original Date / Revision': '03/31/17', 'Contract': 'W AGA', 'Contract / Revision': 'W AGA', 'Totals': 'Signature:', 'Period': '03/27/17-04/10/17', 'Gross Amount': '5100,750.00', 'Agency': '($15,112.50)', 'Net Amount': '$85,637.50'}\n",
      "b'Page\\n\\n'\n",
      "b'Page\\n\\n'\n",
      "b'Page\\n\\n'\n",
      "b'Page\\n\\n'\n",
      "b'Contract Agreement Between:\\n\\n'\n",
      "{'altOrder': '243221', 'Product': 'OSSOFF FOR CO', 'flightDates': 'Chicago, IL 60680-9036 03/28/17-04/03/17', 'Contract Dates': 'Chicago, IL 60680-9036 03/28/17-04/03/17', 'Estimate #': '4826', 'Advertiser': 'CM “', 'Advertiser Ref': '4415', 'Spots': '140', 'Contract': '243221 /', 'Revision': '08601330', 'Contract / Revision': '243221 /', 'Alt Order #': '243221 / 08601330', 'Totals': '(* Line Transactions:', 'Period': '03/27/17-04/03/17', 'Gross Amount': '$197,950.00', 'Agency': '($29,692.50)', 'Net Amount': '$168,257.50', 'Original Date': '03/24/17 /', 'Original Date / Revision': '03/24/17 /', 'Estimate': '4826'}\n",
      "b'Contract Agreement Between:\\n\\n'\n"
     ]
    },
    {
     "name": "stdout",
     "output_type": "stream",
     "text": [
      "{'altOrder': '243221', 'Product': 'OSSOFF FOR CO', 'flightDates': 'Chicago, IL 60680-9036 03/28/17-04/03/17', 'Contract Dates': 'Chicago, IL 60680-9036 03/28/17-04/03/17', 'Estimate #': '4826', 'Advertiser': 'CM “', 'Advertiser Ref': '4415', 'Spots': '140', 'Contract': '243221 /', 'Revision': '08601330', 'Contract / Revision': '243221 /', 'Alt Order #': '243221 / 08601330', 'Totals': '(* Line Transactions:', 'Period': '03/27/17-04/03/17', 'Gross Amount': '$197,950.00', 'Agency': '($29,692.50)', 'Net Amount': '$168,257.50', 'Original Date': '03/24/17 /', 'Original Date / Revision': '03/24/17 /', 'Estimate': '4826'}\n",
      "b'Page\\n\\n'\n",
      "b'Page\\n\\n'\n",
      "b'Page\\n\\n'\n",
      "b'\\xe2\\x96\\xa0Contract-Agreement Between:\\n\\n'\n",
      "b'Contract Agreement Between:\\n\\n'\n",
      "{'altOrder': 'Original', 'Product': '(404) 875-5555 CANDIDATE - Judson Hill for Congress', 'flightDates': 'httaJAwww.fox5atlanta.coni 04/12/17 - 04/18/17', 'Contract Dates': 'httaJAwww.fox5atlanta.coni 04/12/17 - 04/18/17', 'Estimate #': '2873 - Judson Hill TV:', 'Advertiser': 'Judson Hill for Congress', 'Advertiser Ref': 'Spots/', 'Spots': '17', 'Rate': '1 $175.00', 'Totals': '(* Line Transactions:', 'Period': '03/27/17-04/17/17', 'Gross Amount': '$6,075.00', 'Agency': '($911.25)', 'Net Amount': '$5,163.75'}\n",
      "b'Page\\n\\n'\n",
      "b'Page\\n\\n'\n",
      "b'Page\\n\\n'\n",
      "b'Page\\n\\n'\n",
      "b'Page\\n\\n'\n",
      "b'Contract Agreement Between:\\n\\n'\n",
      "{'altOrder': '256062', 'Product': 'NRCC-IE 8736', 'flightDates': '06/13/17-06/20/17', 'Contract Dates': '06/13/17-06/20/17', 'Estimate #': '8736', 'Advertiser': \"ISS/Nat'l Republican Con\", 'Original Date': '04/26/17', 'Revision': '04/26/17', 'Original Date / Revision': '04/26/17 / 04/26/17', 'Advertiser Ref': '2153', 'Spots': '77', 'Contract': '256062 /', 'Contract / Revision': '256062 /', 'Alt Order #': '08627309', 'Estimate': '8736', 'Totals': 'Signature:', 'Period': '06/12/17-06/18/17', 'Gross Amount': '$180,500.00', 'Agency': '($27,075.00)', 'Net Amount': '$153,425.00'}\n",
      "b'Contract Agreement Between:\\n\\n'\n",
      "{'altOrder': '256062', 'Product': 'NRCC-IE 8736', 'flightDates': '06/13/17-06/20/17', 'Contract Dates': '06/13/17-06/20/17', 'Estimate #': '8736', 'Advertiser': \"ISS/Nat'l Republican Con\", 'Original Date': '04/26/17', 'Revision': '04/26/17', 'Original Date / Revision': '04/26/17 / 04/26/17', 'Advertiser Ref': '2153', 'Spots': '77', 'Contract': '256062 /', 'Contract / Revision': '256062 /', 'Alt Order #': '08627309', 'Estimate': '8736', 'Totals': 'Signature:', 'Period': '06/12/17-06/18/17', 'Gross Amount': '$180,500.00', 'Agency': '($27,075.00)', 'Net Amount': '$153,425.00'}\n",
      "b'Page\\n\\n'\n",
      "b'Page\\n\\n'\n",
      "b'Print Date\\n\\n'\n",
      "{'altOrder': 'Alt', 'Contract': 'Alt Order #', 'Contract / Revision': 'Alt Order #', 'flightDates': 'Product', 'Contract Dates': 'Product', 'Advertiser': 'Oriainal Date / Revision', 'Billina Cycle': 'Billina Calendar', 'Billina Calendar': 'Cash/Trade', 'Account Executive': 'Sales Office', 'Advertiser Code': 'Product 1/2', 'Spots': 'Gross Amount', 'Product': 'Estimate #', 'Start Date': 'End Date', 'End Date': 'Weekdays', 'Totals': '45', 'Period': '# of Spots', 'Gross Amount': 'Agency Comm.', 'Agency': 'Net Amount'}\n",
      "b'Print Date\\n\\n'\n",
      "{'altOrder': 'Alt', 'Contract': 'Alt Order #', 'Contract / Revision': 'Alt Order #', 'flightDates': 'Product', 'Contract Dates': 'Product', 'Advertiser': 'Oriainal Date / Revision', 'Billina Cycle': 'Billina Calendar', 'Billina Calendar': 'Cash/Trade', 'Account Executive': 'Sales Office', 'Advertiser Code': 'Product 1/2', 'Spots': 'Gross Amount', 'Product': 'Estimate #', 'Start Date': 'End Date', 'End Date': 'Weekdays', 'Totals': '45', 'Period': '# of Spots', 'Gross Amount': 'Agency Comm.', 'Agency': 'Net Amount'}\n",
      "b'Contract Agreement Between\\n\\n'\n",
      "{'altOrder': '660327', 'Product': 'A T L A N T A (404) 875-5555 GA 6', 'flightDates': '04/10/17- 04/18/17', 'Contract Dates': '04/10/17- 04/18/17', 'Estimate #': '312 GA 6 APRIL 10 TO AF', 'Advertiser': 'Move On.org', 'Advertiser Ref': 'Spots/', 'Spots': '31', 'Contract': '660327 /', 'Contract / Revision': '660327 /', 'Alt Order #': 'WOC10618804', 'Period': '03/27/17-04/17/17_________', 'Gross Amount': '$21,250,00', 'Agency': '($3,187.50)', 'Totals': 'Signature:'}\n",
      "b'Contract Agreement Between\\n\\n'\n",
      "{'altOrder': '660327', 'Product': 'A T L A N T A (404) 875-5555 GA 6', 'flightDates': '04/10/17- 04/18/17', 'Contract Dates': '04/10/17- 04/18/17', 'Estimate #': '312 GA 6 APRIL 10 TO AF', 'Advertiser': 'Move On.org', 'Advertiser Ref': 'Spots/', 'Spots': '31', 'Contract': '660327 /', 'Contract / Revision': '660327 /', 'Alt Order #': 'WOC10618804', 'Period': '03/27/17-04/17/17_________', 'Gross Amount': '$21,250,00', 'Agency': '($3,187.50)', 'Totals': 'Signature:'}\n",
      "b'Page\\n\\n'\n",
      "b'Print Date\\n\\n'\n",
      "{'altOrder': 'Alt', 'Contract': 'Alt Order', 'Contract / Revision': 'Alt Order', 'flightDates': 'Product', 'Contract Dates': 'Product', 'Advertiser': 'Oriainal Date / Revision', 'Billina Cycle': 'Billina Calendar', 'Billina Calendar': 'Cash/Trade', 'Property': 'Account Executive', 'Account Executive': 'Sales Office', 'Advertiser Code': 'Product 1/2', 'Spots': 'Gross Amount', 'Start Date': 'End Date', 'End Date': 'Weekdays', 'Product': 'Estimate', 'Estimate': 'it', 'Totals': '16', 'Period': '# of Spots', 'Gross Amount': 'Agency Comm.', 'Agency': 'Net Amount'}\n",
      "b'Print Date\\n\\n'\n",
      "{'altOrder': '[Alt', 'Contract': '[Alt Order#', 'Contract / Revision': '[Alt Order#', 'Advertiser': 'Oriainal Date / Revision', 'Billina Cvcle': 'Billina Calendar', 'Billina Calendar': 'Cash/Trade', 'Property': 'Account Executive', 'Account Executive': 'Sales Office', 'Advertiser Code': 'Product 1/2', 'Start Date': 'End-Dale', 'End Date': 'Weekdays', 'Spots': 'Rate', 'flightDates': 'Product', 'Contract Dates': 'Product', 'Product': '[Estimate #', 'Totals': '137', 'Gross Amount': 'Agency Comm.______ Net Amount'}\n",
      "b'Contract Agreement Between:\\n\\n'\n",
      "{'altOrder': '663762', 'Product': '(404) 875-5555 2017-NRCC-IE', 'flightDates': 'Advertiser', 'Contract Dates': 'Advertiser', 'Estimate #': '8727 -TV APRIL 25-MA', 'Advertiser': 'NRCC-IE', 'Account Executive': 'WAGA Anthony Castaneda FSS Philadelphi', 'Advertiser Ref': 'Spots/', 'Spots': '29', 'Rate': '1 $1,350.00', 'End Date': 'Week: 04/26/17 05/02/17 -------- 1-', 'Totals': 'Signature:', 'Period': '03/27/17-04/30/17', 'Gross Amount': '$33,525.00', 'Agency': '($5,02B.75)', 'Net Amount': '$28,496.25'}\n",
      "b'Page\\n\\n'\n",
      "b'Contract Agreement Between:\\n\\n'\n",
      "{'altOrder': '649124', 'Product': 'ATLANTA (404) 875-5555 Order: Moody for Congress', 'flightDates': 'htto Jfaww.fox5atlanla com 03/28/17 * 04/03/17', 'Contract Dates': 'htto Jfaww.fox5atlanla com 03/28/17 * 04/03/17', 'Estimate #': '328403', 'Advertiser': 'Moody fo r Congress', 'Advertiser Ref': 'Spots/', 'Spots': '112', 'Station': \"orders, copy instructions or any correspondence that conflicts with station's Standard Conditions.\", 'Rate': '1 $2,500.00', 'End Date': 'Week: 03/27/17 04/02/17 — 1—', 'Totals': 'Signature:', 'Period': '33/27/17-04/03/17', 'Gross Amount': '$68,225.00', 'Agency': '($10,233.75)', 'Net Amount': '$57,991.25'}\n",
      "b'Print Date\\n\\n'\n",
      "{'altOrder': 'Alt', 'Contract': 'Alt Order #', 'Contract / Revision': 'Alt Order #', 'flightDates': 'Product', 'Contract Dates': 'Product', 'Advertiser': 'Oriainal Date / Revision', 'Billina Cvcle': 'Billina Calendar', 'Billina Calendar': 'Cash/Trade', 'Account Executive': 'Sales Office', 'Advertiser Code': 'Product 1/2', 'Spots': 'Gross Amount', 'Product': 'Estimate #', 'Start Date': 'End Date', 'End Date': 'Weekdays', 'Totals': '150', 'Period': '# of Spots', 'Gross Amount': 'Agency Comm.', 'Agency': 'Net Amount'}\n",
      "b'Print Date\\n\\n'\n",
      "{'altOrder': 'Alt', 'Contract': 'Alt Order #', 'Contract / Revision': 'Alt Order #', 'flightDates': 'Product', 'Contract Dates': 'Product', 'Advertiser': 'Oriainal Date / Revision', 'Billina Cvcle': 'Billina Calendar', 'Billina Calendar': 'Cash/Trade', 'Account Executive': 'Sales Office', 'Advertiser Code': 'Product 1/2', 'Spots': 'Gross Amount', 'Product': 'Estimate #', 'Start Date': 'End Date', 'End Date': 'Weekdays', 'Totals': '150', 'Period': '# of Spots', 'Gross Amount': 'Agency Comm.', 'Agency': 'Net Amount'}\n",
      "b'Print Date\\n\\n'\n",
      "{'altOrder': 'Alt', 'Contract': 'Alt Order #', 'Contract / Revision': 'Alt Order #', 'flightDates': 'Product', 'Contract Dates': 'Product', 'Advertiser': 'Oriqinal Date / Revision', 'Billina Cvcle': 'Billina Calendar', 'Billina Calendar': 'Cash/Trade', 'Account Executive': 'Sales OTfice', 'Advertiser Code': 'Product 1/2', 'Product': 'Estimate', 'Estimate': '1t', 'Start Date': 'End Date', 'End Date': 'Weekdays', 'Spots': 'Gross Amount', 'Totals': '41', 'Period': '# of Spots', 'Gross Amount': 'Agency Comm.', 'Agency': 'Net Amount'}\n",
      "b'Print Date\\n\\n'\n"
     ]
    },
    {
     "name": "stdout",
     "output_type": "stream",
     "text": [
      "{'altOrder': 'Alt', 'Contract': 'Alt Order #', 'Contract / Revision': 'Alt Order #', 'flightDates': 'Product', 'Contract Dates': 'Product', 'Advertiser': 'Oriqinal Date / Revision', 'Billina Cvcle': 'Billina Calendar', 'Billina Calendar': 'Cash/Trade', 'Account Executive': 'Sales OTfice', 'Advertiser Code': 'Product 1/2', 'Product': 'Estimate', 'Estimate': '1t', 'Start Date': 'End Date', 'End Date': 'Weekdays', 'Spots': 'Gross Amount', 'Totals': '41', 'Period': '# of Spots', 'Gross Amount': 'Agency Comm.', 'Agency': 'Net Amount'}\n",
      "b'Contract Agreement Between:\\n\\n'\n",
      "{'Alt Order#': '645424 / MOODY for CONGRESS', 'Product': 'A T L A N T A , (404) 875-5555 MOODY fo r CONGRESS', 'flightDates': '03/06/17 - 03/12/17', 'Contract Dates': '03/06/17 - 03/12/17', 'Estimate #': '306312', 'Advertiser': 'Moody fo r Congress', 'Spots': '58', 'altOrder': '645424', 'Order#': '645424 Product MOODY for CONGRES! 3063121 MOODY for CONGRESS=?tim?te it', 'Rate': '1 $550.00', 'Totals': 'Signature:', 'Period': '02/27/17-03/12/17', 'Gross Amount': '$65,300.00', 'Agency': '($9,795.00)', 'Net Amount': '$55,505.00'}\n",
      "b'Contract Agreement Between:\\n\\n'\n",
      "{'Alt Order#': '645424 / MOODY for CONGRESS', 'Product': 'A T L A N T A , (404) 875-5555 MOODY fo r CONGRESS', 'flightDates': '03/06/17 - 03/12/17', 'Contract Dates': '03/06/17 - 03/12/17', 'Estimate #': '306312', 'Advertiser': 'Moody fo r Congress', 'Spots': '58', 'altOrder': '645424', 'Order#': '645424 Product MOODY for CONGRES! 3063121 MOODY for CONGRESS=?tim?te it', 'Rate': '1 $550.00', 'Totals': 'Signature:', 'Period': '02/27/17-03/12/17', 'Gross Amount': '$65,300.00', 'Agency': '($9,795.00)', 'Net Amount': '$55,505.00'}\n",
      "b'Page\\n\\n'\n",
      "b'Contract Agreement Between.\\n\\n'\n",
      "{'Alt Order#': '647866 i  2 WOC10582662', 'Product': 'MOODY lor CONGRESS 321327', 'flightDates': '03/21/17 - 03/27/17', 'Contract Dates': '03/21/17 - 03/27/17', 'Estimate #': '321327', 'Advertiser': 'Moody for Congress', 'Account Executive': 'WAGA Anthony Castaneda', 'Sales Office': 'FSS Philadelphi', 'Advertiser Code': 'TV12891 MOODY', 'Spots': '88', 'altOrder': '647866', 'Alt Order #': '647866 /  2 WOC10582662', 'Rate': ':30 w v t / v . vf luf ) NM', 'Totals': 'Signature:', 'Period': '02/27/17-03/26/17', 'Gross Amount': '$50,525.00', 'Agency': '($7,578.75)', 'Net Amount': '$42,946.25'}\n",
      "b'Page\\n\\n'\n",
      "b'Contract Agreement Between:\\n\\n'\n",
      "{'Alt Order#': '659325 / WOC10616838', 'Product': 'ESIGA 4500 - ENDING SPENDINt', 'flightDates': '04/05/17 - 04/12/17', 'Contract Dates': '04/05/17 - 04/12/17', 'Estimate #': 'ESIGA 4500 - ENDING SPENDINi', 'Advertiser': 'Ending Spending, Inc', 'Advertiser Ref': 'Spots/', 'Spots': '77', 'altOrder': '659325', 'End Date': 'Week: 04/05/17 04/11/17 1...........', 'Rate': '1 $4,500.00', 'Totals': 'Signature:', 'Period': '03/27/17-04/12/17', 'Gross Amount': '$84,275.00', 'Agency': '($12,641.25)', 'Net Amount': '$71,633.75'}\n",
      "b'Page\\n\\n'\n",
      "b'Print Date\\n\\n'\n",
      "{'altOrder': 'Alt', 'Contract': 'Alt Order #', 'Contract / Revision': 'Alt Order #', 'flightDates': 'Product', 'Contract Dates': 'Product', 'Advertiser': 'Oriqmal Date / Revision', 'Account Executive': 'Sales Office', 'Advertiser Code': 'Product T72', 'Product': 'Estimate #', 'Start Date': 'End Date', 'End Date': 'Weekdavs', 'Spots': 'Gross Amount', 'Totals': '44', 'Period': '# of Spots', 'Gross Amount': 'Agency Comm.', 'Agency': 'Net Amount'}\n",
      "b'Print Date\\n\\n'\n",
      "{'altOrder': 'Alt', 'Contract': 'Alt Order #', 'Contract / Revision': 'Alt Order #', 'flightDates': 'Product', 'Contract Dates': 'Product', 'Advertiser': 'Oriainal Date / Revision', 'Account Executive': 'Sales Office', 'Advertiser Code': 'ProducTT/2', 'Product': 'Estimate #', 'Start Date': 'End Date', 'End Date': 'Weekdavs', 'Spots': 'Gross Amount', 'Rate': 'Type', 'Period': '# of Spots', 'Gross Amount': 'Agency Comm.', 'Agency': 'Net Amount', 'Totals': '90'}\n",
      "b'Contract Agreem ent Between:\\n\\n'\n",
      "b'Contract Agreement Between:\\n\\n'\n",
      "{'Product': 'R P 45C', 'flightDates': '04/14 /17  -  04 /17/17', 'Contract Dates': '04/14 /17  -  04 /17/17', 'Advertiser': 'Spots/', 'Spots': '26', 'Rate': 'W eek: 04 /14/17 04 /20 /17  2 — 1 —  3 5500.00', 'Alt Order #': '/ W O C 10622086', 'Estimate #': '4517-45  C O M M  {R E D  PRII', 'Period': '03/27/17-04/17/17', 'Gross Amount': '$24,200.00', 'Agency': '($3,630', 'Net Amount': '$20,570.00', 'Totals': 'Signature: Date:'}\n",
      "b'Print Date\\n\\n'\n",
      "{'altOrder': 'Ait', 'Contract': 'Ait Order #', 'Contract / Revision': 'Ait Order #', 'flightDates': 'Product', 'Contract Dates': 'Product', 'Advertiser': 'Oriainal Date / Revision', 'Billina Cvcle': 'Billina Calendar', 'Billina Calendar': 'Cash/Trade', 'Property': 'Account Executive', 'Account Executive': 'Sales Office', 'Advertiser Code': 'Product 1/2', 'Spots': 'Gross Amount', 'Product': 'Estimate #', 'Start Date': 'End Date', 'End Date': 'Weekdays', 'Totals': '36', 'Period': '# of Spots', 'Gross Amount': 'Agency Comm.', 'Agency': 'Net Amount'}\n",
      "b'Contract Agreement Between:\\n\\n'\n",
      "{'altOrder': '649B16', 'Product': '(404) 875-5555 Special Election', 'flightDates': '03/21/17-03/27/17', 'Contract Dates': '03/21/17-03/27/17', 'Estimate #': '4816', 'Advertiser': 'http://www.fox5aHanta.com', 'Account Executive': 'WAGA Atlanta House Accou Atlanta-Local', 'Demographic': 'Adults 35+', 'Advertiser Ref': 'Spots/', 'Spots': '149', 'Station': 'orders, copy instructions or any correspondence that conflicts with station s Standard Conditions.', 'Contract': '1551 Briarcliff Rd. NE 00056215 649816 /', 'Contract / Revision': '1551 Briarcliff Rd. NE 00056215 649816 /', 'Alt Order#': '00056215', 'Rate': '1 $500.00', 'End Date': 'Week: 03/21/17 03/27/17 M----------', 'Original Date': 'http:Myww.fon5atlant9.com', 'Original Date / Revision': 'http:Myww.fon5atlant9.com', 'Start Date': 'Start Date End Date Weekdays Soots/Week Rate', 'Period': '02/27/17-03/26/17', 'Gross Amount': '$75,925.00', 'Agency': '($11,388.75)', 'Totals': 'Signature:'}\n",
      "b'Page\\n\\n'\n",
      "b'Print Date\\n\\n'\n",
      "{'altOrder': 'Alt', 'Contract': 'Alt Order it', 'Contract / Revision': 'Alt Order it', 'flightDates': 'Product', 'Contract Dates': 'Product', 'Advertiser': 'Oriainal Date / Revision', 'Billina Cycle': 'Billina Calendar', 'Billina Calendar': 'Cash/Trade', 'Property': 'Account Executive', 'Account Executive': 'Sales Office', 'Advertiser Code': 'Product 1/2', 'Spots': 'Gross Amount', 'Product': 'Estimate it', 'Start Date': 'End Date', 'End Date': 'Weekdays', 'Totals': '36', 'Period': '# of Spots', 'Gross Amount': 'Agency Comm.', 'Agency': 'Net Amount'}\n",
      "b'Page\\n\\n'\n",
      "b'Contract Agreement Between;\\n\\n'\n",
      "{'altOrder': '234623', 'Product': '930', 'flightDates': 'Chicago, IL 60680-9036 03/14/17 -0 3 /2 0 /1 7', 'Contract Dates': 'Chicago, IL 60680-9036 03/14/17 -0 3 /2 0 /1 7', 'Estimate #': '4810', 'Advertiser': 'PO L/Jon O ssoff/D /C o n/G', 'Original Date': '03/10/17', 'Original Date / Revision': '03/10/17', 'Property Account Executive': 'WSB-TV Washington DC CoxF CoxReps Washi', 'Advertiser Code': '802', 'Advertiser Ref': '4415', 'Spots': '62', 'Totals': '(* Line Transactions: N = New, E = Edited, D = Deleted)', 'Period': '03/13/17-03/19/17', 'Gross Amount': '$87,900.00', 'Agency': '($13,185.00)', 'Net Amount': '$74,715.00'}\n",
      "b'Print Date\\n\\n'\n",
      "{'altOrder': 'Alt', 'Contract': 'Alt Order #', 'Contract / Revision': 'Alt Order #', 'flightDates': 'Product', 'Contract Dates': 'Product', 'Advertiser': 'Oriainal Date / Revision', 'Property': 'Account Executive', 'Account Executive': 'Sales Office', 'Advertiser Code': 'Product 1/2', 'Spots': 'Gross Amount', 'Totals': '9', 'Product': 'Estimate #', 'Period': '# of Spots', 'Gross Amount': 'Agency Comm.', 'Agency': 'Net Amount'}\n",
      "b'Page\\n\\n'\n",
      "b'Page\\n\\n'\n",
      "b'Print Date\\n\\n'\n",
      "{'altOrder': 'Alt', 'Contract': 'Alt Order #', 'Contract / Revision': 'Alt Order #', 'flightDates': 'Product', 'Contract Dates': 'Product', 'Advertiser': 'Oriainal Date / Revision', 'Billina Cvcle': 'Billina Calendar', 'Billina Calendar': 'Cash/Trade', 'Account Executive': 'Sales Office', 'Advertiser Code': 'Product 1/2', 'Product': 'Estimate #', 'Estimate': 'it', 'Start Date': 'End Date', 'End Date': 'Weekdays', 'Spots': 'Gross Amount', 'Period': '# of Spots', 'Gross Amount': 'Agency Comm.', 'Agency': 'Net Amount', 'Totals': '90'}\n",
      "b'Print Date\\n\\n'\n",
      "{'altOrder': 'Alt', 'Contract': 'Alt Order#', 'Contract / Revision': 'Alt Order#', 'flightDates': 'Product', 'Contract Dates': 'Product', 'Advertiser': 'Original Date / Revision', 'Billina Cvcle': 'Billina Calendar', 'Billina Calendar': 'Cash/Trade', 'Account Executive': 'Sales Office', 'Advertiser Code': 'Product 1/2', 'Start Date': 'End Date', 'End Date': 'Weekdays', 'Product': 'Estimate #', 'Spots': 'Gross Amount', 'Totals': '147', 'Period': '# of Spots', 'Gross Amount': 'Agency Comm.', 'Agency': 'Net Amount'}\n",
      "b'Print Date\\n\\n'\n",
      "{'altOrder': 'Alt', 'Contract': 'Alt Order#', 'Contract / Revision': 'Alt Order#', 'flightDates': 'Product', 'Contract Dates': 'Product', 'Advertiser': 'Original Date / Revision', 'Property': 'Account Executive', 'Account Executive': 'sales otiice', 'Advertiser Code': 'Product 1/2', 'Spots': 'Rale', 'End Date': 'Weekdays', 'Product': 'Estimate #', 'Start Date': 'Weekdays', 'Totals': '31', 'Gross Amount': 'Agency Comm._____ Net Amount'}\n"
     ]
    },
    {
     "name": "stdout",
     "output_type": "stream",
     "text": [
      "b'Print Date\\n\\n'\n",
      "{'altOrder': 'Alt', 'Contract': 'Alt Order #', 'Contract / Revision': 'Alt Order #', 'flightDates': 'Product', 'Contract Dates': 'Product', 'Advertiser': 'Oriainal Date / Revision', 'Billina Cvcle': 'Billina Calendar', 'Billina Calendar': 'Cash/Trade', 'Account Executive': 'Sales Office', 'Advertiser Code': 'Product 1/2', 'Spots': 'Gross Amount', 'Product': 'Estimate //', 'Start Date': 'End Date', 'End Date': 'Weekdays', 'Period': '# of Spots', 'Gross Amount': 'Agency Comm.', 'Agency': 'Net Amount', 'Totals': '42'}\n",
      "b'Contract Agreement Between:\\n\\n'\n"
     ]
    },
    {
     "ename": "IndexError",
     "evalue": "list index out of range",
     "output_type": "error",
     "traceback": [
      "\u001b[0;31m---------------------------------------------------------------------------\u001b[0m",
      "\u001b[0;31mIndexError\u001b[0m                                Traceback (most recent call last)",
      "\u001b[0;32m<ipython-input-20-12f4cd56ce63>\u001b[0m in \u001b[0;36m<module>\u001b[0;34m()\u001b[0m\n\u001b[1;32m      6\u001b[0m \u001b[0;32mfor\u001b[0m \u001b[0mfile\u001b[0m \u001b[0;32min\u001b[0m \u001b[0mscanFiles\u001b[0m\u001b[0;34m(\u001b[0m\u001b[0;34m)\u001b[0m\u001b[0;34m:\u001b[0m\u001b[0;34m\u001b[0m\u001b[0m\n\u001b[1;32m      7\u001b[0m     \u001b[0;32mif\u001b[0m \u001b[0mfile\u001b[0m\u001b[0;34m:\u001b[0m\u001b[0;34m\u001b[0m\u001b[0m\n\u001b[0;32m----> 8\u001b[0;31m         \u001b[0mparseDoc\u001b[0m\u001b[0;34m(\u001b[0m\u001b[0mfile\u001b[0m\u001b[0;34m)\u001b[0m\u001b[0;34m\u001b[0m\u001b[0m\n\u001b[0m",
      "\u001b[0;32m<ipython-input-19-0f6baeba212d>\u001b[0m in \u001b[0;36mparseDoc\u001b[0;34m(current_file)\u001b[0m\n\u001b[1;32m     11\u001b[0m         \u001b[0;32mreturn\u001b[0m \u001b[0;32mFalse\u001b[0m\u001b[0;34m\u001b[0m\u001b[0m\n\u001b[1;32m     12\u001b[0m     \u001b[0mheaderMatrix\u001b[0m\u001b[0;34m,\u001b[0m \u001b[0mvalueMatrix\u001b[0m \u001b[0;34m=\u001b[0m \u001b[0mgenerateMatrixLookup\u001b[0m\u001b[0;34m(\u001b[0m\u001b[0mdf\u001b[0m\u001b[0;34m)\u001b[0m\u001b[0;34m\u001b[0m\u001b[0m\n\u001b[0;32m---> 13\u001b[0;31m     \u001b[0mresults\u001b[0m \u001b[0;34m=\u001b[0m \u001b[0mfilterExtractedFields\u001b[0m\u001b[0;34m(\u001b[0m\u001b[0mextractFields\u001b[0m\u001b[0;34m(\u001b[0m\u001b[0mheaderMatrix\u001b[0m\u001b[0;34m,\u001b[0m \u001b[0mvalueMatrix\u001b[0m\u001b[0;34m,\u001b[0m \u001b[0mcurrent_layout\u001b[0m\u001b[0;34m[\u001b[0m\u001b[0;34m'extraction_method'\u001b[0m\u001b[0;34m]\u001b[0m\u001b[0;34m)\u001b[0m\u001b[0;34m,\u001b[0m \u001b[0mlazy\u001b[0m\u001b[0;34m=\u001b[0m\u001b[0mcurrent_layout\u001b[0m\u001b[0;34m[\u001b[0m\u001b[0;34m'lazy'\u001b[0m\u001b[0;34m]\u001b[0m\u001b[0;34m)\u001b[0m\u001b[0;34m\u001b[0m\u001b[0m\n\u001b[0m\u001b[1;32m     14\u001b[0m     \u001b[0mprint\u001b[0m\u001b[0;34m(\u001b[0m\u001b[0mresults\u001b[0m\u001b[0;34m)\u001b[0m\u001b[0;34m\u001b[0m\u001b[0m\n",
      "\u001b[0;32m/Users/pratheekrebala/Documents/development/political-ads/pifParser.py\u001b[0m in \u001b[0;36mfilterExtractedFields\u001b[0;34m(extracted_fields, date_range_regex, lazy)\u001b[0m\n\u001b[1;32m     76\u001b[0m             \u001b[0;32mif\u001b[0m \u001b[0mlen\u001b[0m\u001b[0;34m(\u001b[0m\u001b[0mfield\u001b[0m\u001b[0;34m)\u001b[0m \u001b[0;34m>\u001b[0m \u001b[0;36m2\u001b[0m\u001b[0;34m:\u001b[0m\u001b[0;34m\u001b[0m\u001b[0m\n\u001b[1;32m     77\u001b[0m                 \u001b[0;32mif\u001b[0m \u001b[0;34m'Period'\u001b[0m \u001b[0;32min\u001b[0m \u001b[0mfield\u001b[0m \u001b[0;32mand\u001b[0m \u001b[0;34m'Spots'\u001b[0m \u001b[0;32min\u001b[0m \u001b[0mfield\u001b[0m\u001b[0;34m:\u001b[0m\u001b[0;34m\u001b[0m\u001b[0m\n\u001b[0;32m---> 78\u001b[0;31m                     \u001b[0mmatched_date\u001b[0m \u001b[0;34m=\u001b[0m \u001b[0mdate_range_regex\u001b[0m\u001b[0;34m.\u001b[0m\u001b[0mfindall\u001b[0m\u001b[0;34m(\u001b[0m\u001b[0mvalue\u001b[0m\u001b[0;34m)\u001b[0m\u001b[0;34m[\u001b[0m\u001b[0;36m0\u001b[0m\u001b[0;34m]\u001b[0m\u001b[0;34m\u001b[0m\u001b[0m\n\u001b[0m\u001b[1;32m     79\u001b[0m                     \u001b[0mvalue\u001b[0m \u001b[0;34m=\u001b[0m \u001b[0mvalue\u001b[0m\u001b[0;34m.\u001b[0m\u001b[0mreplace\u001b[0m\u001b[0;34m(\u001b[0m\u001b[0mmatched_date\u001b[0m\u001b[0;34m,\u001b[0m \u001b[0mmatched_date\u001b[0m\u001b[0;34m.\u001b[0m\u001b[0mreplace\u001b[0m\u001b[0;34m(\u001b[0m\u001b[0;34m' '\u001b[0m\u001b[0;34m,\u001b[0m \u001b[0;34m''\u001b[0m\u001b[0;34m)\u001b[0m\u001b[0;34m)\u001b[0m\u001b[0;34m\u001b[0m\u001b[0m\n\u001b[1;32m     80\u001b[0m                     \u001b[0mfinalized_meta\u001b[0m\u001b[0;34m.\u001b[0m\u001b[0mupdate\u001b[0m\u001b[0;34m(\u001b[0m\u001b[0mdict\u001b[0m\u001b[0;34m(\u001b[0m\u001b[0mzip\u001b[0m\u001b[0;34m(\u001b[0m\u001b[0mfield\u001b[0m\u001b[0;34m,\u001b[0m \u001b[0mvalue\u001b[0m\u001b[0;34m.\u001b[0m\u001b[0msplit\u001b[0m\u001b[0;34m(\u001b[0m\u001b[0;34m' '\u001b[0m\u001b[0;34m)\u001b[0m\u001b[0;34m)\u001b[0m\u001b[0;34m)\u001b[0m\u001b[0;34m)\u001b[0m\u001b[0;34m\u001b[0m\u001b[0m\n",
      "\u001b[0;31mIndexError\u001b[0m: list index out of range"
     ]
    }
   ],
   "source": [
    "def scanFiles(path='./completedOcr/'):\n",
    "    for dirpath,_,filenames in os.walk(path):\n",
    "       for f in filenames:\n",
    "           yield os.path.abspath(os.path.join(dirpath, f))\n",
    "\n",
    "for file in scanFiles():\n",
    "    if file:\n",
    "        parseDoc(file)"
   ]
  },
  {
   "cell_type": "code",
   "execution_count": null,
   "metadata": {
    "collapsed": true
   },
   "outputs": [],
   "source": []
  }
 ],
 "metadata": {
  "kernelspec": {
   "display_name": "Python 3",
   "language": "python",
   "name": "python3"
  },
  "language_info": {
   "codemirror_mode": {
    "name": "ipython",
    "version": 3
   },
   "file_extension": ".py",
   "mimetype": "text/x-python",
   "name": "python",
   "nbconvert_exporter": "python",
   "pygments_lexer": "ipython3",
   "version": "3.6.1"
  }
 },
 "nbformat": 4,
 "nbformat_minor": 2
}
